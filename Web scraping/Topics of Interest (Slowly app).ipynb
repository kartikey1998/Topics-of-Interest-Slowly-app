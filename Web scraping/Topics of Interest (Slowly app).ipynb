{
 "cells": [
  {
   "cell_type": "markdown",
   "metadata": {},
   "source": [
    "# Data collection\n",
    "## Collection of  Topics of Interest"
   ]
  },
  {
   "cell_type": "code",
   "execution_count": 22,
   "metadata": {},
   "outputs": [],
   "source": [
    "data = '''COVID-19 Language Movies Pets Nature Adventure Climate Handicraft Writing Beauty Makeup Fitness Cosplay Dancing\n",
    "Singing Astrology Gardening Collecting Aviation Shopping Design Technology Music Gaming Fashion Cars Architecture\n",
    "Television Travel Photography Fiction Reading Sports Cooking Food Business Investing Economics Finance Startup Career\n",
    "Ideas Future Space New Age Politics Culture Art Feminism Life Casual Religion Psychology Humor Health Depression History \n",
    "Education School Life Science Family Parenting Sex LGBTQ+ Relationships Poetry Vegan Anime Philosophy Magic Storytelling\n",
    "News Law Sustainability Sci-Fi Deaf Coding Fantasy DIY Board Games Environment Illustration Archeology Theatre Wine Farming\n",
    "Theme Parks Disabilities Origami Martial Arts Museums\n",
    "'''\n",
    "\n",
    "data = data.split()"
   ]
  },
  {
   "cell_type": "markdown",
   "metadata": {},
   "source": [
    "## Storing the data into dictionary "
   ]
  },
  {
   "cell_type": "code",
   "execution_count": 23,
   "metadata": {
    "scrolled": true
   },
   "outputs": [
    {
     "data": {
      "text/plain": [
       "95"
      ]
     },
     "execution_count": 23,
     "metadata": {},
     "output_type": "execute_result"
    }
   ],
   "source": [
    "dict_data = {}\n",
    "for key in data:\n",
    "    dict_data[key] = 0\n",
    "    \n",
    "#replacing some of the keys with other unique keys so that it doest causes problem afterwards    \n",
    "dict_change = {'COVID-19' : 'C', 'LGBTQ+':'L' , 'Sci-Fi' : 'Sci', 'DIY':'Y'}\n",
    "\n",
    "for old_key, new_key in dict_change.items():\n",
    "    dict_data[new_key] = dict_data.pop(old_key)\n",
    "len(dict_data)"
   ]
  },
  {
   "cell_type": "markdown",
   "metadata": {},
   "source": [
    "#### Loading the sample data of intrests of 100 people, which has been collected manually."
   ]
  },
  {
   "cell_type": "code",
   "execution_count": 24,
   "metadata": {
    "collapsed": true
   },
   "outputs": [
    {
     "data": {
      "text/plain": [
       "'AnimeWritingMagicStorytellingSci-FiCodingBoard GamesIllustrationMusicTechnologyGamingMoviesPhotographyFictionReadingIdeasFutureSpaceLifeHumorDepressionRelationshipsCosplayDancingAstrologyAdventureCookingCasualPoetryNaturePoetryHandicraftAdventureClimateWritingPhilosophyStorytellingMagicBeautyFantasyDIYEnvironmentDesignFashionMoviesTelevisionFictionPhotographyReadingCookingFoodArtFeminismCareerIdeasLifePsychologyFamilyCOVID-19LanguageArtCultureLifePoetryPhilosophySci-FiFantasyCodingVeganIdeasCareerScienceLanguageMoviesPetsNatureWritingDesignMusicTelevisionFictionPhotographyTravelReadingFoodPsychologyHumorPoetryMagicStorytellingAnimeFantasyIllustrationEnvironmentLGBTQ+GardeningClimateGamingCookingMoviesPetsWritingSingingMusicTravelLifeAnimeFictionCareerPsychologySchool LifeFamilyTheatreDepressionPoetryMagicSchool LifeHumorMoviesWritingCosplayTravelNew AgeFantasyMusicArcheologyAnimeFoodFashionLanguageTravelWritingAdventureMoviesPetsNatureMusicFoodBusinessArtLifeDepressionMuseumsBoard GamesCasualPhotographyDancingDesignTheme ParksTheatreLanguageSingingMusicReadingDisabilitiesEnvironmentBoard GamesPoetryEducationHistoryCookingFoodSportsLanguageMoviesNatureAdventureMusicReadingCareerIdeasCasualLifeHumorSchool LifeRelationshipsAnimeFantasyFarmingPetsGardeningLanguageMoviesMakeupBeautyAstrologyTechnologyMusicFashionArchitectureTravelFictionReadingFeminismHumorAnimeIllustrationSci-FiNatureAdventureFutureCultureArtLifeSchool LifeEducationScienceFantasyEnvironmentArcheologyWineReadingPhotographyNaturePoetryDesignDIYDepressionFictionCookingFutureVeganEnvironmentFamilyFitnessHealthLifeClimateLanguagePsychologyHistoryFoodMusicCarsPhotographySportsPsychologyRelationshipsLGBTQ+PetsLanguageAdventureSingingEducationSciencePhilosophySpaceNatureReadingHumorHealthFeminismFitnessTechnologyBoard GamesGamingSci-FiCasualLanguageNatureAdventureWritingFitnessAstrologyDancingSingingGardeningTravelFictionReadingIdeasLifeReligionHumorHealthHistoryEducationDepressionSchool LifePoetryFantasyDIYPhotographyMusicArtVeganAnimeRelationshipsPhotographyFoodStorytellingEnvironmentPoetryAnimeFamilyEducationScienceLifeReligionHumorFutureCookingTravelMoviesCultureIdeasRelationshipsLanguageNatureShoppingMoviesSingingLifeDepressionHistoryStorytellingMusicCareerDepressionRelationshipsPoetryFutureIdeasAdventureWritingMakeupFitnessAstrologyTechnologyTravelPhotographyLifeReligionCultureParentingCodingDisabilitiesInvestingBusinessFoodFictionMusicBeautyWritingMusicTelevisionReadingFoodIdeasNew AgeCultureArtFeminismLifePsychologyHumorHealthDepressionScienceLGBTQ+PoetryPhilosophySustainabilityDIYTheme ParksOrigamiBoard GamesMuseumsHistoryHandicraftLanguagePetsNaturePoetryWritingNatureSci-FiEnvironmentMusicMoviesTelevisionFictionReadingHumorLGBTQ+EducationSustainabilityLanguageGardeningFashionFoodCookingDIYDisabilitiesMuseumsLifeCultureAstrologyPetsLanguageNaturePoetryAdventureWritingNewsSci-FiBoard GamesEnvironmentTechnologyIllustrationMusicTravelFictionReadingSportsFoodPoliticsCultureArtHumorHistoryScienceCodingStorytellingFantasyIdeasLifeSpacePhilosophyLanguageNaturePoetryAdventureWritingStorytellingLawSci-FiDesignMusicPhotographyTravelFoodPsychologyHistoryHumorEconomicsArtScienceSpaceMoviesHandicraftSingingFictionMartial ArtsEducationLGBTQ+EnvironmentDIYCultureLanguageTravelLifePsychologyPhilosophyHumorMoviesReadingArtPsychologyScienceSci-FiPhilosophyHumorFictionMusicCasualLifeEducationWritingCookingSpaceLanguageMusicPsychologyAdventureGamingFashionPhotographyTravelFoodLifeReligionNewsLanguageMoviesPetsWritingBeautyMakeupMusicShoppingArtPsychologyDepressionSchool LifePoetryPhilosophyFeminismFashionDesignReadingPhotographyFoodCookingIllustrationCasualHumorLGBTQ+TheatreCultureReligionRelationshipsHistoryNatureHandicraftWritingReadingCookingFoodEconomicsInvestingStartupCareerFuturePoliticsCultureArtLifeCasualHumorPsychologyDepressionHealthHistoryEducationSustainabilityLawFarmingArcheologySportsClimateArchitecturePhilosophyTravelHumorBeautyIdeasCultureFamilyFantasyFoodArtMusicPsychologyFeminismMoviesWritingMusicReadingStorytellingLanguageFictionHumorPoetryArtScienceAnimePhilosophyPsychologyHistoryOrigamiTelevisionIdeasTheatreWineMoviesPetsNatureWritingShoppingMusicTelevisionTravelPhotographyFictionReadingFoodCultureArtFeminismCasualHumorAnimeOrigamiWineMuseumsBoard GamesAstrologyStorytellingFantasyTheme ParksPoetryMagicTheatreHandicraftNewsFantasyPoetryHumorArtFoodReadingTravelDesignDancingWritingAdventureMoviesStorytellingCookingFictionPsychologyPhotographyMusicDepressionHistoryLifeWineBoard GamesLGBTQ+MuseumsNatureClimateNewsFantasyPoetryHumorArtFoodReadingTravelDesignDancingWritingAdventureMoviesStorytellingCookingFictionPsychologyPhotographyMusicDepressionHistoryLifeWineBoard GamesLGBTQ+MuseumsNatureClimateLanguageMoviesNaturePetsAdventureWritingDancingSingingMusicFashionTelevisionTravelPhotographyReadingFictionFoodCareerIdeasArtLifeCasualHumorDIYEnvironmentNatureHumorFinanceHealthScienceVeganReadingInvestingLifeFitnessMusicTravelSpaceFutureLanguageMoviesPetsNatureClimateHandicraftSingingDancingMusicGamingTravelFictionFoodCultureFeminismLifeArtCasualReligionHumorPsychologyHealthHistoryScienceLGBTQ+RelationshipsSci-FiFantasyEnvironmentAstrologyMoviesWritingNatureFitnessTechnologyTravelFoodBusinessLifeEnvironmentStorytellingMusicLanguageMoviesPetsNatureClimateHandicraftSingingDancingMusicGamingTravelFictionFoodCultureFeminismLifeArtCasualReligionHumorPsychologyHealthHistoryScienceLGBTQ+RelationshipsSci-FiFantasyEnvironmentAstrologyMoviesWritingNatureFitnessTechnologyTravelFoodBusinessLifeEnvironmentStorytellingMusicLanguageTravelFoodCookingArtLifeCultureCasualHumorAnimeArcheologyWritingPsychologyLGBTQ+FitnessMoviesSingingMusicTelevisionFictionFoodCookingIdeasArtPsychologyDepressionEducationHumorScienceRelationshipsIllustrationPetsNatureAdventureFitnessDancingShoppingDesignMusicFashionTravelReadingSportsFoodCareerCultureFeminismLifePsychologyHumorFutureEducationSchool LifeDepressionFamilyFantasyMoviesScienceEnvironmentCodingPhotographyMoviesPetsNatureAdventureHandicraftWritingMakeupFitnessDancingSingingDesignMusicFashionFoodIdeasFutureNew AgeCultureArtHumorSchool LifeRelationshipsMagicFantasyEnvironmentTheme ParksLanguageCookingDIYPoetryMoviesAstrologyFutureArtHumorScienceFoodCarsTechnologyNatureLanguageFitnessShoppingMusicTravelLifeDepressionHealthEducationCultureCareerIdeasCollectingClimateReligionHistoryCasualFashionMoviesAdventureNatureWritingReadingArtReligionPsychologyHealthDepressionHistoryEducationEnvironmentArcheologyIllustrationRelationshipsSpacePhotographyClimateGardeningFictionVeganFeminismPoetryPhilosophySustainabilityDIYFantasyLanguageWritingSingingReadingCultureArtPsychologyDepressionLGBTQ+ScienceAnimePoetryArcheologyMuseumsFictionHistoryIllustrationPetsAdventurePhotographyReadingFictionCareerEducationFantasyTravelFoodNatureLifeSchool LifeLanguageHandicraftWritingArchitectureFutureArtCulturePsychologyHumorScienceMagicPhilosophyDIYLGBTQ+CasualMusicDesignCOVID-19NatureWritingAdventureDancingDesignMusicFashionTravelFoodCareerSpaceBusinessNew AgeFutureHealthCultureLifeDepressionSchool LifeHumorParentingSciencePoetryFamilyMartial ArtsNewsEducationMoviesLanguageWritingGardeningFictionCookingFoodReadingSpaceArtFeminismPsychologyHumorPoetryEducationCultureTravelMusicNatureSustainabilityPetsHistoryScienceFamilySci-FiPhilosophyDesignDIYTechnologyDepressionMoviesAdventureNatureClimateMuseumsEnvironmentSustainabilityStorytellingPhilosophyPsychologyHumorHistoryArtCultureDancingSingingDesignMusicTravelReadingCookingPoliticsFutureLifeFeminismTechnologyHandicraftIdeasRelationshipsPoetryNatureWritingSingingMusicSpaceLifeSci-FiPoetryStorytellingEnvironmentOrigamiCookingFoodReadingFashionAstrologyLanguagePetsAdventureDancingDesignAstrologyDancingWritingFitnessFoodRelationshipsParentingSportsCookingLanguageMoviesWritingPetsSingingMusicGamingSpaceArtCasualDepressionHumorRelationshipsDancingCollectingAstrologyReadingLifePsychologyScienceSustainabilitySci-FiCultureLGBTQ+TechnologyLanguageNatureDancingDesignFashionStartupCultureRelationshipsIllustrationCareerBusinessMusicLifePetsArtLanguageMoviesPetsNatureAdventureSustainabilityScienceHumorSpaceTravelMusicGamingTechnologyEnvironmentSportsReadingFoodPoetryNatureDesignWritingBeautyReadingCookingFoodFictionArtAnimeStorytellingFantasyDIYMusicEnvironmentFamilyLanguageWritingReadingCareerIdeasFutureCultureFeminismLifeCasualSchool LifeEducationFantasyArcheologyPoetryLanguageMoviesReadingCookingFoodDIYHistoryHumorCasualCultureLanguageNatureMakeupDancingMusicTravelReadingCareerLifeSchool LifeRelationshipsEducationFeminismTechnologyBeautyWritingSingingFinanceIdeasHumorBusinessSciencePoetrySpacePsychologyCasualFitnessDesignNew AgeFamilyLanguagePetsAdventureWritingClimateMakeupDancingFitnessSingingShoppingMusicFashionTravelFictionCookingFoodIdeasFutureLifePsychologyHumorAnimePhilosophySci-FiGamingTheme ParksCultureFantasyMoviesNatureAdventureHandicraftWritingFitnessCollectingDesignMusicPhotographyReadingFoodCookingCareerNew AgeArtCultureLifeFeminismCasualReligionPsychologySchool LifeScienceFamilyPoetryPhilosophyStorytellingMagicCOVID-19LanguageMoviesNatureWritingSingingTechnologyMusicPhotographyFictionCareerIdeasSpaceFutureArtCultureLifeCasualHumorEducationSchool LifeScienceFamilyPhilosophySci-FiMuseumsTheatrePoetryWritingMoviesReadingArtLifeFutureDepressionLGBTQ+RelationshipsPhilosophyStorytellingCodingOrigamiPetsLanguageCOVID-19AdventureTechnologyMusicGamingFoodCareerCultureFeminismHumorEducationFamilyBoard GamesTravelIdeasNatureHandicraftWritingReadingCookingFoodEconomicsInvestingStartupCareerFuturePoliticsCultureArtLifeCasualHumorPsychologyDepressionHealthHistoryEducationSustainabilityLawFarmingArcheologySportsClimateArchitecturePhilosophy\\nLanguageMoviesPetsWritingBeautyMakeupMusicShoppingArtPsychologyDepressionSchool LifePoetryPhilosophyFeminismFashionDesignReadingPhotographyFoodCookingIllustrationCasualHumorLGBTQ+TheatreCultureReligionRelationshipsHistoryReadingArtPsychologyScienceSci-FiPhilosophyHumorFictionMusicCasualLifeEducationWritingCookingSpaceMoviesNaturePetsClimateShoppingMusicGamingPhotographyFictionFoodSpaceArtLifeFeminismPsychologyScienceEnvironmentFantasySci-FiPhilosophyAnimeSustainabilityTheme ParksLGBTQ+MoviesMusicEconomicsIdeasNew AgeArtHumorLifeFamilyFantasyFashionSchool LifeEducationAnimeHistoryFoodWritingMoviesPetsNatureClimateAstrologyMusicReadingFutureLifePsychologyDepressionPhilosophyFantasyEnvironmentDIYMagicCasualFictionSustainabilityLanguageReadingFoodCookingIdeasPoliticsArtCultureHumorPsychologyLifeCasualEducationHistoryNewsLawMuseumsPoetryFictionFeminismDIYNatureAdventureWritingGardeningDesignArchitecturePhotographyIdeasPsychologyLifeSustainabilityPhilosophyAnimeLifeSpacePhotographyReadingFantasyCodingEnvironmentLanguageWritingTechnologyFoodIdeasArtOrigamiSciencePsychologyFictionAstrologyNaturePetsAdventureMagicMusicPoetryGardeningDepressionSci-FiIllustrationLGBTQ+CodingPsychologyReadingDesignMoviesFitnessTechnologyFictionFoodInvestingCareerStartupFeminismHealthAnimeFutureSpaceCareerPsychologyLifePhilosophyFamilyArtHumorCasualArchitectureMusicDesignMoviesFantasySci-FiEducationFictionIdeasReadingWritingMakeupBeautyMoviesNatureFashionTechnologyCarsDancingTravelCookingFoodLifePsychologyCodingFantasyPhilosophyFamilyPoliticsSpaceFutureStartupReadingShoppingMusicStorytellingRelationshipsDepressionSchool LifeLanguageMoviesWritingMusicFictionStorytellingLawFeminismReadingHumorFantasyArtDepressionLGBTQ+Sci-FiPoetryTelevisionGamingCultureSpacePsychologyBoard GamesMartial ArtsLanguageMoviesNatureWritingTelevisionFictionReadingCookingFoodCareerFeminismHealthEducationSchool LifeScienceAnimeFantasyEnvironmentCasualClimateGardeningMusicCultureArtFarmingMuseumsNewsReadingWritingLanguageDancingFictionFashionFoodFeminismLifeCasualReligionPsychologyHumorDepressionHistoryEducationScienceRelationshipsPhilosophyCultureMoviesFitnessMusicTravelFinanceIdeasTelevisionLGBTQ+EconomicsLanguageMoviesWritingSingingMusicTravelReadingCookingFoodArtFeminismCultureLifePoetryStorytellingOrigamiMoviesArtSportsLanguageMusicSpaceLGBTQ+IllustrationNatureTelevisionCultureScienceFitnessFamilyHealthSchool LifeGamingHumorPhotographyTechnologyCollectingWritingMagicFictionFantasySci-FiEnvironmentCookingFutureStorytellingLanguageMoviesAdventureWritingBeautyCosplayFitnessDancingSingingGardeningCollectingShoppingDesignPhilosophySustainabilityStorytellingPoetryFamilyDepressionPsychologyScienceHumorCasualLifeHealthSpaceIdeasFoodCookingNatureLanguageAnimeNatureEconomicsLifeEnvironmentNewsTheme ParksDIYBoard GamesEnvironmentFantasySci-FiMagicAnimeFamilySchool LifeLifeArtCasualFutureCareerFoodMusicShoppingSingingDancingPetsNatureAdventureBeautyFitnessMakeupLanguageCookingCollectingFashionCOVID-19PetsClimateAdventureTravelSportsFoodLanguageNatureLifeCultureDepressionHealthReligionPsychologyDancingFitnessEnvironmentBeautyIdeasHumorEducationFamilyParentingSexAstrologyRelationshipsNatureFitnessSingingPhotographyArtFarmingMusicTravelAdventureCookingFashionPoetryPetsClimateMoviesWritingAdventureNatureDesignMusicFashionPhotographyTravelReadingTelevisionFictionCookingFoodIdeasArtCultureFeminismHumorPsychologyHealthPoetryStorytellingMagicFantasyIllustrationSingingCasualMoviesCOVID-19LanguageAdventureDancingSingingPhotographyTravelFictionReadingNatureWritingMusicFoodBusinessPsychologyHumorHistoryPoetryMagicLawDIYBoard GamesFantasySci-FiScienceTheatreMartial ArtsOrigamiMuseumsPetsWritingMusicPhotographyTravelReadingCookingFoodIdeasCultureLifeHumorStorytellingSchool LifePhilosophyNatureFictionCollectingFantasyVeganParentingRelationshipsCasualReligionDesignAstrologyMoviesFamilySportsShoppingNatureMakeupBeautyFashionFoodArtMoviesMusicDesignPetsCookingAdventureFeminismFantasyRelationshipsHandicraftMoviesAdventureWritingAstrologyDesignShoppingMusicFashionTelevisionTravelArchitecturePhotographyReadingFictionFoodEconomicsIdeasCultureArtHumorHistorySexRelationshipsStorytellingMagicFamilyFuturePhilosophyPoetryTheatreLanguageWritingMoviesStorytellingPoetryFeminismArtCulturePoliticsFoodReadingCookingReligionHistoryOrigamiLGBTQ+MagicMuseumsReadingFashionFoodReligionMuseumsTheme ParksFamilyEducationCookingIdeasSpaceWritingSingingLifePoetryOrigamiCOVID-19NatureAdventureHandicraftWritingFitnessClimateSingingShoppingMusicFashionArchitectureTravelPhotographyReadingCookingFoodCultureArtReligionSchool LifePoetryStorytellingIllustrationRelationshipsLifeHealthBeautyFeminismScienceMoviesWritingMusicTravelFictionReadingCareerIdeasNew AgePoliticsFeminismLifeCasualReligionPsychologyHumorArtHealthHistoryEducationScienceLGBTQ+RelationshipsPoetryPhilosophyMagicEnvironmentTheatreLawStorytellingPetsAdventureMakeupBeautyMusicFashionTravelPhotographyFictionReadingCookingArtLifeCasualPsychologyHumorHealthPoetryAnimeFantasyCareerNatureDancingDepressionSpacePhilosophyMagicDesignFoodFuturePetsNatureAdventureClimateMusicTravelDepressionHumorStorytellingEnvironmentFantasyPoetryEducationSustainabilityArtCookingLanguageMoviesAdventureNatureWritingDancingAstrologyDesignMusicFashionTravelFictionReadingFoodCookingSpaceCultureLifePsychologyHistorySciencePhilosophySci-FiFutureFeminismLGBTQ+CareerHumorAnimeArcheologyMoviesWritingMusicTravelReadingFictionPhotographyMuseumsTheatreIllustrationDIYAnimeHumorEducationArtCultureFoodDesignNatureSingingBoard GamesFantasyFashionLanguageMoviesMusicPhotographyBusinessInvestingTravelPsychologyHumorLifePoetryWineFoodClimateFinanceGardeningNatureLawTechnologyCultureArtHistoryStartupDIYBoard GamesCasualDesignSportsSexLGBTQ+MusicFictionFashionSpaceArtFeminismHistoryPhilosophySci-FiMoviesClimateFoodRelationshipsPoetryStorytellingFarmingTheatreCookingReadingTelevisionAstrologySingingWritingNatureLanguageHandicraftMoviesPetsLanguageNaturePhotographyTravelMusicCookingFeminismLifePsychologyHumorMoviesPetsWritingDancingReadingEconomicsFutureSpaceFeminismPsychologySciencePoetrySci-FiBoard GamesMuseumsBeautyMakeupMusicSingingMusicTravelReadingFoodAnimeLifePhotographyPetsMoviesNatureFashionSchool LifeDancingShoppingEnvironmentFitnessIdeasFutureArtCultureDepressionCareerCasualFamilyLanguageDesignLGBTQ+FictionMartial ArtsFantasyHumorCasualArtIdeasFictionMoviesNatureOrigamiStorytellingAnimeRelationshipsParentingWineDIYMoviesAdventureMusicCollectingDesignTechnologyTravelPhotographyReadingCareerSpaceArtHumorTheatreTelevisionPetsLanguageIdeasFutureNew AgeCultureLifePsychologyHealthDepressionSchool LifeScienceFamilySci-FiRelationshipsLanguageNatureMoviesHandicraftPetsAstrologySingingDesignMusicArchitectureFictionIdeasArtCultureSpaceLifeHumorPsychologyDepressionPhilosophyMagicIllustrationDIYRelationshipsTravelFeminismHistoryAnimeStorytellingEnvironmentPoetryWritingMagicAnimeMusicFictionReadingTravelCookingFoodSpaceCultureFeminismArtPsychologyScienceLGBTQ+EnvironmentFantasyLanguageFutureIdeasPoliticsLifeHealthEducationSci-FiNatureFitnessCareerAdventurePhilosophyReligionLifeArtFoodCareerMusicMoviesPetsLanguageFitnessInvestingLanguagePetsNatureAdventureWritingStorytellingBeautyDIYBoard GamesDeafEnvironmentDesignMusicPhotographyCookingFoodCareerFeminismArtPsychologyHumorHealthPoetryFashionStartupLGBTQ+WritingPsychologyHumorFeminismLifeIdeasFoodMoviesMusicFantasyDIYPhilosophyMagicPoetryStorytellingFictionReadingPetsNatureWritingPoetryPhilosophyStorytellingNewsFantasyMusicFoodIdeasFutureArtLifeHumorPsychologyLGBTQ+RelationshipsFeminismSingingAdventureCOVID-19TravelReadingFictionPhotographyMovies'"
      ]
     },
     "execution_count": 24,
     "metadata": {},
     "output_type": "execute_result"
    }
   ],
   "source": [
    "import os\n",
    "\n",
    "intrests = open(r'C:\\Users\\chhip\\Desktop\\intrests_data.txt',\"rt\").read()\n",
    "intrests"
   ]
  },
  {
   "cell_type": "markdown",
   "metadata": {},
   "source": [
    "### Data cleaning using regex"
   ]
  },
  {
   "cell_type": "code",
   "execution_count": 25,
   "metadata": {},
   "outputs": [
    {
     "data": {
      "text/plain": [
       "2538"
      ]
     },
     "execution_count": 25,
     "metadata": {},
     "output_type": "execute_result"
    }
   ],
   "source": [
    "import re\n",
    "\n",
    "delta = ['I', \"D\" , 'O', 'V', 'G', 'B', 'T', 'Q','Fi' ]\n",
    "x = re.findall(\"([A-Z][a-z]*)\", intrests) # find all words which starts with capital letter.\n",
    "\n",
    "x_clean= []\n",
    "\n",
    "# removing some charactres for simplification of data\n",
    "for i in x:\n",
    "    if i not in delta:\n",
    "        x_clean.append(i)\n",
    "\n",
    "len((x_clean))"
   ]
  },
  {
   "cell_type": "markdown",
   "metadata": {},
   "source": [
    "#### Incrementing the value of topic(key) each time a person likes that topic"
   ]
  },
  {
   "cell_type": "code",
   "execution_count": 26,
   "metadata": {
    "collapsed": true
   },
   "outputs": [
    {
     "data": {
      "text/plain": [
       "{'Language': 61,\n",
       " 'Movies': 69,\n",
       " 'Pets': 41,\n",
       " 'Nature': 69,\n",
       " 'Adventure': 43,\n",
       " 'Climate': 22,\n",
       " 'Handicraft': 16,\n",
       " 'Writing': 68,\n",
       " 'Beauty': 17,\n",
       " 'Makeup': 12,\n",
       " 'Fitness': 26,\n",
       " 'Cosplay': 3,\n",
       " 'Dancing': 28,\n",
       " 'Singing': 31,\n",
       " 'Astrology': 20,\n",
       " 'Gardening': 11,\n",
       " 'Collecting': 8,\n",
       " 'Aviation': 0,\n",
       " 'Shopping': 15,\n",
       " 'Design': 36,\n",
       " 'Technology': 21,\n",
       " 'Music': 86,\n",
       " 'Gaming': 13,\n",
       " 'Fashion': 31,\n",
       " 'Cars': 3,\n",
       " 'Architecture': 9,\n",
       " 'Television': 16,\n",
       " 'Travel': 55,\n",
       " 'Photography': 40,\n",
       " 'Fiction': 53,\n",
       " 'Reading': 67,\n",
       " 'Sports': 12,\n",
       " 'Cooking': 47,\n",
       " 'Food': 73,\n",
       " 'Business': 9,\n",
       " 'Investing': 7,\n",
       " 'Economics': 8,\n",
       " 'Finance': 4,\n",
       " 'Startup': 7,\n",
       " 'Career': 30,\n",
       " 'Ideas': 41,\n",
       " 'Future': 31,\n",
       " 'Space': 30,\n",
       " 'New': 9,\n",
       " 'Age': 9,\n",
       " 'Politics': 9,\n",
       " 'Culture': 52,\n",
       " 'Art': 67,\n",
       " 'Feminism': 39,\n",
       " 'Life': 97,\n",
       " 'Casual': 37,\n",
       " 'Religion': 19,\n",
       " 'Psychology': 59,\n",
       " 'Humor': 69,\n",
       " 'Health': 24,\n",
       " 'Depression': 35,\n",
       " 'History': 33,\n",
       " 'Education': 33,\n",
       " 'School': 24,\n",
       " 'Science': 38,\n",
       " 'Family': 25,\n",
       " 'Parenting': 6,\n",
       " 'Sex': 3,\n",
       " 'Relationships': 32,\n",
       " 'Poetry': 54,\n",
       " 'Vegan': 6,\n",
       " 'Anime': 28,\n",
       " 'Philosophy': 38,\n",
       " 'Magic': 21,\n",
       " 'Storytelling': 36,\n",
       " 'News': 9,\n",
       " 'Law': 8,\n",
       " 'Sustainability': 14,\n",
       " 'Deaf': 1,\n",
       " 'Coding': 9,\n",
       " 'Fantasy': 42,\n",
       " 'Board': 17,\n",
       " 'Games': 17,\n",
       " 'Environment': 35,\n",
       " 'Illustration': 16,\n",
       " 'Archeology': 9,\n",
       " 'Theatre': 13,\n",
       " 'Wine': 7,\n",
       " 'Farming': 6,\n",
       " 'Theme': 8,\n",
       " 'Parks': 8,\n",
       " 'Disabilities': 3,\n",
       " 'Origami': 11,\n",
       " 'Martial': 5,\n",
       " 'Arts': 5,\n",
       " 'Museums': 16,\n",
       " 'C': 8,\n",
       " 'L': 29,\n",
       " 'Sci': 28,\n",
       " 'Y': 23}"
      ]
     },
     "execution_count": 26,
     "metadata": {},
     "output_type": "execute_result"
    }
   ],
   "source": [
    "for key in x_clean:\n",
    "    dict_data[key]+=1\n",
    "dict_data"
   ]
  },
  {
   "cell_type": "markdown",
   "metadata": {},
   "source": [
    "### List of top 10 topics people wants to talk about on slowly app"
   ]
  },
  {
   "cell_type": "code",
   "execution_count": 34,
   "metadata": {
    "scrolled": true
   },
   "outputs": [
    {
     "name": "stdout",
     "output_type": "stream",
     "text": [
      "10\n"
     ]
    },
    {
     "data": {
      "text/plain": [
       "[[97, 'Life'],\n",
       " [86, 'Music'],\n",
       " [73, 'Food'],\n",
       " [69, 'Nature'],\n",
       " [69, 'Movies'],\n",
       " [69, 'Humor'],\n",
       " [68, 'Writing'],\n",
       " [67, 'Reading'],\n",
       " [67, 'Art'],\n",
       " [61, 'Language']]"
      ]
     },
     "execution_count": 34,
     "metadata": {},
     "output_type": "execute_result"
    }
   ],
   "source": [
    "list = []\n",
    "for key, value in dict_data.items():\n",
    "    if value >=60:\n",
    "        list.append([value, key])\n",
    "\n",
    "print(len(list))\n",
    "list.sort(reverse=True)\n",
    "list"
   ]
  }
 ],
 "metadata": {
  "kernelspec": {
   "display_name": "Python 3",
   "language": "python",
   "name": "python3"
  },
  "language_info": {
   "codemirror_mode": {
    "name": "ipython",
    "version": 3
   },
   "file_extension": ".py",
   "mimetype": "text/x-python",
   "name": "python",
   "nbconvert_exporter": "python",
   "pygments_lexer": "ipython3",
   "version": "3.8.5"
  }
 },
 "nbformat": 4,
 "nbformat_minor": 4
}
